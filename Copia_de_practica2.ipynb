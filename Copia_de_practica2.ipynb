{
  "cells": [
    {
      "cell_type": "markdown",
      "metadata": {
        "id": "99_4eyfyxskq"
      },
      "source": [
        "# Programación para Analisis de datos\n",
        "## Práctica 2: Introducción a Python II\n",
        "## Índice:\n",
        "\n",
        "1. [Condicionales](#Ejercicios-con-condicionales)\n",
        "2. [Ciclos](#Ejercicios-con-Ciclos)\n",
        "3. [Funciones](#Ejercicios-con-funciones)\n",
        "4. [Ejercicios Extras](#Ejercicios-Extras)\n",
        "\n",
        "\n",
        "<b>Nota:</b>\n",
        "Esta práctica contiene ejercicios que cubren los diferentes temas vistos en la intrudicción de Python como lenguaje de programación. En las celdas de código, donde vea $<CODIGO>$, debera completar con el código que resuelva lo que se pide. En la mayoria de los ejercicios se debera recurrir a las referencias técnicas para resolver los enunciados. Bajo cada seccion esta el link a las referencias oficiales de python, sin embargo no dude en usar otras fuentes.\n",
        "\n",
        "<hr>\n",
        "\n",
        "## Ejercicios con condicionales</b>\n",
        "referencias: https://www.w3schools.com/python/python_conditions.asp\n"
      ]
    },
    {
      "cell_type": "markdown",
      "metadata": {
        "id": "1RiFw5nsxskw"
      },
      "source": [
        "1. Programa el comportamiento de un modulo de un numero, es decir, si el numero es negativo le cambia el signo. Si el numero es positivo lo deja tal como esta"
      ]
    },
    {
      "cell_type": "code",
      "execution_count": null,
      "metadata": {
        "id": "_F2eD3-Hxskx"
      },
      "outputs": [],
      "source": []
    },
    {
      "cell_type": "markdown",
      "metadata": {
        "id": "cy6c9-7Sxskz"
      },
      "source": [
        "2. El siguiente codigo imprime por pantalla si un numero es divisible por otro. Este codigo tiene un error, descubralo y arreglelo."
      ]
    },
    {
      "cell_type": "code",
      "execution_count": null,
      "metadata": {
        "id": "H244tq6Yxskz"
      },
      "outputs": [],
      "source": [
        "a = 7\n",
        "b = 2\n",
        "if a%b == 0:\n",
        "    print(a,'divide a ',b)\n",
        "else:\n",
        "    print(a,'NO divide a ',b)\n"
      ]
    },
    {
      "cell_type": "markdown",
      "metadata": {
        "id": "N5pqxXhexsk1"
      },
      "source": [
        "3. Escriba un código que imprima por pantalla si un numero es divisible por 3 y por 2. Debe imprimir todas las condiciones posibles, es decir, si es divisible por uno y no por el otro."
      ]
    },
    {
      "cell_type": "code",
      "execution_count": null,
      "metadata": {
        "id": "KUhd8flDxsk1"
      },
      "outputs": [],
      "source": []
    },
    {
      "cell_type": "markdown",
      "metadata": {
        "id": "8Nw3oWEYxsk2"
      },
      "source": [
        "4. Escriba un código para dado un entero del 1 al 7 imprima el dia de la semana. Ahora escriba tambien una solución que resuelva lo mismo pero no use ningun if"
      ]
    },
    {
      "cell_type": "code",
      "execution_count": null,
      "metadata": {
        "id": "tUqkWIBJxsk4"
      },
      "outputs": [],
      "source": []
    },
    {
      "cell_type": "markdown",
      "metadata": {
        "id": "f0ijhQ29xsk5"
      },
      "source": [
        "## Ejercicios con Ciclos\n",
        "referencias: https://www.w3schools.com/python/python_for_loops.asp"
      ]
    },
    {
      "cell_type": "markdown",
      "metadata": {
        "id": "YzwK6jO6xsk6"
      },
      "source": [
        "5. Escriba un codigo que imprima los numeros del uno al 10 un numero por linea."
      ]
    },
    {
      "cell_type": "code",
      "execution_count": null,
      "metadata": {
        "id": "n7ZS7UCCxsk6"
      },
      "outputs": [],
      "source": []
    },
    {
      "cell_type": "markdown",
      "metadata": {
        "id": "uSIaKE_uxsk7"
      },
      "source": [
        "6. Imprima lo mismo del ejercicio anterior pero usando for y range.\n",
        "\n"
      ]
    },
    {
      "cell_type": "code",
      "execution_count": null,
      "metadata": {
        "id": "P_iXE9D-xsk7"
      },
      "outputs": [],
      "source": []
    },
    {
      "cell_type": "markdown",
      "metadata": {
        "id": "HyclvJJ_xsk8"
      },
      "source": [
        "7. Guarde en una lista todos los numeros menores a 100 que sean pares\n",
        "\n"
      ]
    },
    {
      "cell_type": "code",
      "execution_count": null,
      "metadata": {
        "id": "lcp1mtIixsk8"
      },
      "outputs": [],
      "source": [
        "numeros_pares_menores_a_100 = []\n",
        "for i in range(<CODIGO>):\n",
        "    # Chequeamos si el numero que estoy usando para iterar es par o no\n",
        "    if <CODIGO>:\n",
        "        # Si estoy aca es porque el numero es par, entonces lo agrego a la lista numeros_pares_menores_a_100\n",
        "        <CODIGO>\n",
        "        \n",
        "# Imprimo los numeros pares menores a 100 \n",
        "print(numeros_pares_menores_a_100)\n",
        "    \n",
        "        "
      ]
    },
    {
      "cell_type": "markdown",
      "metadata": {
        "id": "vwuit_H_xsk8"
      },
      "source": [
        "8. Calcule todos los divisores de un número $n$. Pruebe distintos valores para la variable $n$. Pruebe escribirlos con un $while$ y con un $for$\n",
        "\n"
      ]
    },
    {
      "cell_type": "code",
      "execution_count": null,
      "metadata": {
        "id": "DqsOOWojxsk9"
      },
      "outputs": [],
      "source": [
        "n = 123\n",
        "lista_de_divisores = []\n",
        "<CODIGO>\n",
        "# Imprimo los divisores de a 1 \n",
        "print(lista_de_divisores)\n",
        "\n"
      ]
    },
    {
      "cell_type": "markdown",
      "metadata": {
        "id": "IwuDBNERxsk-"
      },
      "source": [
        "9. Imprima por pantalla todos los numeros primos menos a $n$, pruebe con diferentes valores de $n$\n",
        "\n"
      ]
    },
    {
      "cell_type": "code",
      "execution_count": null,
      "metadata": {
        "id": "nB-zbEybxsk-"
      },
      "outputs": [],
      "source": []
    },
    {
      "cell_type": "markdown",
      "metadata": {
        "id": "-3UVUOoUxsk_"
      },
      "source": [
        "## Ejercicios con funciones\n",
        "Algunos de los siguientes ejercicios fueron tomados de diferentes recursos como: \n",
        "* https://github.com/zhiwehu/Python-programming-exercises/blob/master/100%2B%20Python%20challenging%20programming%20exercises.txt\n",
        "* https://github.com/darkprinx/100-plus-Python-programming-exercises-extended\n",
        "* https://projecteuler.net/"
      ]
    },
    {
      "cell_type": "markdown",
      "metadata": {
        "id": "edtda4Swxsk_"
      },
      "source": [
        "10. Encapsule las funciones de los ejercicios 8 y 9 de modo que tomen el parámetro $n$. Experimente con diferentes parámetros"
      ]
    },
    {
      "cell_type": "code",
      "execution_count": null,
      "metadata": {
        "id": "WtrRHSsKxsk_"
      },
      "outputs": [],
      "source": [
        "# Funcion lista de divisores\n",
        "def lista_de_divisores(n):\n",
        "    <CODIGO>\n",
        "\n",
        "# Funcion codigo numeros primos menores a n\n",
        "<CODIGO>\n",
        "\n",
        "\n"
      ]
    },
    {
      "cell_type": "markdown",
      "metadata": {
        "id": "f_K6fnckxslA"
      },
      "source": [
        "11. Escriba una funcion que calcule todos los numeros divisibles por 7 pero no multiplos de 5 entre 1000 y 5000.\n",
        "\n",
        "La funcion debe devolver una lista con estos numeros\n",
        "Hints: Puede usar la funcion range(desde,hasta)\n"
      ]
    },
    {
      "cell_type": "markdown",
      "metadata": {
        "id": "hGCYDmQYxslA"
      },
      "source": [
        "12. Haga una función que calcule el factorial de un numero $n$"
      ]
    },
    {
      "cell_type": "code",
      "execution_count": null,
      "metadata": {
        "id": "iFyX_hstxslA"
      },
      "outputs": [],
      "source": []
    },
    {
      "cell_type": "markdown",
      "metadata": {
        "id": "slI1ufw9xslB"
      },
      "source": [
        "13. Escriba una función que devuelva un diccionario donde las claves sean los numeros del 1 al $n$ (con $n$ parametro de la función) y en el significado de cada clave este guardado el cuadrado de ese numero.\n",
        "\n",
        "Por ejemplo si a la función le entra un 4 la funcion debe devolver {1:1,2:4,3:9,4:16}"
      ]
    },
    {
      "cell_type": "code",
      "execution_count": null,
      "metadata": {
        "id": "mHy0TbcOxslB"
      },
      "outputs": [],
      "source": []
    },
    {
      "cell_type": "markdown",
      "metadata": {
        "id": "GPaoW73ZxslB"
      },
      "source": [
        "14. Escriba una función que tome una lista de enteros y devuelva una lista de lista, donde cada lista contenga los divisores del numero correspondiente.\n",
        "\n",
        "Por ejemplo si función toma como entrada [3,6,12,11], la salida debe ser [[1,3],[1,2,3,6],[1,2,3,6,12],[1,11]]"
      ]
    },
    {
      "cell_type": "code",
      "execution_count": null,
      "metadata": {
        "id": "xsKtPwt2xslB"
      },
      "outputs": [],
      "source": []
    },
    {
      "cell_type": "markdown",
      "metadata": {
        "id": "tlXbFbcyxslB"
      },
      "source": [
        "15. Escriba una función que tome un numero entero y devuelva una lista con tuplas con los numeros primos que lo dividen y la cantidad de veces que el numero primo lo divide.\n",
        "\n",
        "Por ejemplo, si entra el número 2223000 la función debe devolver: [(2,3),(3,2),(13,1),(19,1)] pues $2^3 \\times 3^2 \\times 13^1 \\times 19^1 = 2223000$"
      ]
    },
    {
      "cell_type": "code",
      "execution_count": null,
      "metadata": {
        "id": "OaaiLRKNxslC"
      },
      "outputs": [],
      "source": [
        "\"\"\"\n",
        "Esto es una tupla en python, puede tener una cantidad fija \n",
        "pero arbitraria de elementos (es decir puede ser tan grande\n",
        "como se quiera pero no puede mutar)\"\"\"\n",
        "tupla = (3,6) "
      ]
    },
    {
      "cell_type": "markdown",
      "metadata": {
        "id": "5DvY3mnwxslC"
      },
      "source": [
        "16. Un número palíndromo se lee del derecho y el reves de la misma forma. El palindrome hecho por el producto de dos numeros de dos digitos mas grande es 9009 pues es producto de $91*99$\n",
        "\n",
        "Escriba un código para crear el palindromo más grande hecho por el pruducto de 2 numeros de 3 digitos\n",
        "\n",
        "Nota: Este ejercicio fue tomado de: https://projecteuler.net/problem=4\n"
      ]
    },
    {
      "cell_type": "code",
      "execution_count": null,
      "metadata": {
        "id": "PnrCvwPxxslC"
      },
      "outputs": [],
      "source": []
    },
    {
      "cell_type": "markdown",
      "metadata": {
        "id": "qjjDObK5xslC"
      },
      "source": [
        "17. Escriba una función que devuelve el $i-esimo$ número de la sucesión de Fibonacci  (https://en.wikipedia.org/wiki/Fibonacci_number)"
      ]
    },
    {
      "cell_type": "code",
      "execution_count": null,
      "metadata": {
        "id": "9-sNBAKjxslC"
      },
      "outputs": [],
      "source": []
    },
    {
      "cell_type": "markdown",
      "metadata": {
        "id": "hTjvux2ixslD"
      },
      "source": [
        "## Ejercicios Extras\n",
        "18. Registrese en https://projecteuler.net/ y complete todos los ejercicios que quiera en orden"
      ]
    },
    {
      "cell_type": "code",
      "execution_count": null,
      "metadata": {
        "id": "SjCmexHsxslD"
      },
      "outputs": [],
      "source": []
    }
  ],
  "metadata": {
    "kernelspec": {
      "display_name": "Python 3",
      "language": "python",
      "name": "python3"
    },
    "language_info": {
      "codemirror_mode": {
        "name": "ipython",
        "version": 3
      },
      "file_extension": ".py",
      "mimetype": "text/x-python",
      "name": "python",
      "nbconvert_exporter": "python",
      "pygments_lexer": "ipython3",
      "version": "3.7.3"
    },
    "colab": {
      "provenance": []
    }
  },
  "nbformat": 4,
  "nbformat_minor": 0
}