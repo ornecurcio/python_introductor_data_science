{
  "cells": [
    {
      "cell_type": "markdown",
      "metadata": {
        "id": "ZGdwGkZQ96na"
      },
      "source": [
        "# Programación para Analisis de datos\n",
        "## Práctica 1: Introducción a Python I\n",
        "## Índice:\n",
        "\n",
        "1. [Ejercicios sobre números](#Ejercicios-sobre-números)\n",
        "2. [Ejercicios sobre strings](#Ejercicios-sobre-Strings)\n",
        "3. [Ejercicios sobre listas y diccionarios](#Ejercicios-sobre-listas-y-diccionarios)\n",
        "\n",
        "<b>Nota:</b>\n",
        "Esta práctica contiene ejercicios que cubren los diferentes temas vistos en la intrudicción de Python como lenguaje de programación. En las celdas de código, donde vea $<CODIGO>$, debera completar con el código que resuelva lo que se pide. En la mayoria de los ejercicios se debera recurrir a las referencias técnicas para resolver los enunciados. Bajo cada seccion esta el link a las referencias oficiales de python, sin embargo no dude en usar otras fuentes.\n",
        "\n",
        "<hr>\n",
        "\n",
        "## Ejercicios sobre números</b>\n",
        "referencia: https://docs.python.org/3/library/stdtypes.html#numeric-types-int-float-complex\n",
        "\n",
        "\n"
      ]
    },
    {
      "cell_type": "markdown",
      "metadata": {
        "id": "4a5VZ3Uf96nj"
      },
      "source": [
        "2. Calcule el producto de todos los numeros del 1 a 10\n"
      ]
    },
    {
      "cell_type": "code",
      "execution_count": null,
      "metadata": {
        "colab": {
          "base_uri": "https://localhost:8080/"
        },
        "id": "O77achr_96nk",
        "outputId": "ffc0a286-69d2-4dca-faa7-f521a56d821e"
      },
      "outputs": [
        {
          "name": "stdout",
          "output_type": "stream",
          "text": [
            "el producto es:  5760\n"
          ]
        }
      ],
      "source": [
        "# complete con productos\n",
        "res = 1*2*3*4*5*6*7*8*9*10\n",
        "print('el producto es: ',res)"
      ]
    },
    {
      "cell_type": "markdown",
      "metadata": {
        "id": "n9vhWl0796nk"
      },
      "source": [
        "3. Escriba el codigo para calcular el cuadrado de un numero <i>x</i> y la raiz cuadrada de un número <i>y</i>. Prueba variar el valor de <i>x</i> y de <i>y</i>"
      ]
    },
    {
      "cell_type": "code",
      "execution_count": null,
      "metadata": {
        "colab": {
          "base_uri": "https://localhost:8080/"
        },
        "id": "XdtrFopj96nl",
        "outputId": "779d5db5-68b6-4504-ca14-de573711d43d"
      },
      "outputs": [
        {
          "name": "stdout",
          "output_type": "stream",
          "text": [
            "El cuadrado de x es:  15129\n",
            "La raiz cuadrada de y es:  21.840329667841555\n"
          ]
        }
      ],
      "source": [
        "x = 123\n",
        "y = 477\n",
        "cuadrado_de_x = x**2\n",
        "#con sqrt de math\n",
        "#raiz_de_y = math.sqrt(y)\n",
        "#con pow que eleva la base a el exponente que le pasamos\n",
        "#raiz_de_y = pow(y,0.5)\n",
        "#evalando la base a la potencia de 0.5\n",
        "raiz_de_y = y**0.5\n",
        "print('El cuadrado de x es: ',cuadrado_de_x)\n",
        "print('La raiz cuadrada de y es: ',raiz_de_y)"
      ]
    },
    {
      "cell_type": "markdown",
      "metadata": {
        "id": "ZpiENSZt96nl"
      },
      "source": [
        "4. Convierta el valor del entero $x$ en un número decimal y  el valor de un decimal $y$ en un número entero"
      ]
    },
    {
      "cell_type": "code",
      "execution_count": null,
      "metadata": {
        "colab": {
          "base_uri": "https://localhost:8080/"
        },
        "id": "qfBH2jRm96nm",
        "outputId": "bc8aedf4-01a6-4651-863d-204781244ec6"
      },
      "outputs": [
        {
          "name": "stdout",
          "output_type": "stream",
          "text": [
            "El tipo de x es: <class 'int'> , el tipo de dato de y es: <class 'float'>\n",
            "El tipo de x_en_decimal es: <class 'float'> , el tipo de dato de y_en_entero es: <class 'int'>\n"
          ]
        }
      ],
      "source": [
        "x = 42\n",
        "y = 88.0\n",
        "x_en_decimal = float(x)\n",
        "y_en_entero = int(y)\n",
        "\n",
        "print('El tipo de x es:',type(x),', el tipo de dato de y es:',type(y))\n",
        "print('El tipo de x_en_decimal es:',type(x_en_decimal),', el tipo de dato de y_en_entero es:',type(y_en_entero))"
      ]
    },
    {
      "cell_type": "markdown",
      "metadata": {
        "id": "oQybFzXJ96nm"
      },
      "source": [
        "5. \n",
        "\n",
        "I. Sea $a,b,c$ los factores de un poliniomio de orden 2 ($ax^2+bx+c$). Complete el código para encontrar las raices del polinomio. Encuentra algún problema en su código? Prueba cambiar los valores de $a,b$ y $c$ para testear que su algoritmo funciona. En caso de no funcionar, piense para que valores de los factores no funciona."
      ]
    },
    {
      "cell_type": "code",
      "execution_count": 1,
      "metadata": {
        "colab": {
          "base_uri": "https://localhost:8080/",
          "height": 130
        },
        "id": "hre04nSf96nm",
        "outputId": "810142be-c49d-46aa-ade7-523d0d13a451"
      },
      "outputs": [
        {
          "name": "stdout",
          "output_type": "stream",
          "text": [
            "La raiz 1 es:  (-4-5.656854249492381j)\n",
            "La raiz 2 es:  (-3.9999999999999996+5.656854249492381j)\n"
          ]
        }
      ],
      "source": [
        "import numpy as np\n",
        "a = 2\n",
        "b = 4\n",
        "c = 2\n",
        "raiz_1 = (-b - pow((-b**2 - 4*a*c),0.5))/2*a \n",
        "raiz_2 =(-b + pow((-b**2 - 4*a*c),0.5))/2*a \n",
        "print('La raiz 1 es: ',raiz_1)\n",
        "print('La raiz 2 es: ',raiz_2)"
      ]
    },
    {
      "cell_type": "markdown",
      "metadata": {
        "id": "CR_FFag396nn"
      },
      "source": [
        "5. II. Escriba un codigo para chequear que los valores de las raices computados anteriormente son correctos (HINT:Piense como puede reemplazarlos en la formula de un polinimio)."
      ]
    },
    {
      "cell_type": "code",
      "execution_count": null,
      "metadata": {
        "id": "K-JpDMP796nn"
      },
      "outputs": [],
      "source": [
        "raiz_1_es_correcta = <CODIGO>\n",
        "raiz_2_es_correcta = <CODIGO>\n",
        "print('La raiz 1 es correcta:',raiz_1_es_correcta)\n",
        "print('La raiz 2 es correcta:',raiz_2_es_correcta)"
      ]
    },
    {
      "cell_type": "markdown",
      "metadata": {
        "id": "LgzqBfwu96nn"
      },
      "source": [
        "6. Calcule el resto de una divisíon entre 2 enteros $a$ y $b$, sin usar el operador división entera de Python. Prueba diferentes valores de $a$ y $b$. Compare sus respuestas con el operador resto ($a$ % $b$)"
      ]
    },
    {
      "cell_type": "code",
      "execution_count": 7,
      "metadata": {
        "colab": {
          "base_uri": "https://localhost:8080/"
        },
        "id": "uJKSLdgG96nn",
        "outputId": "3f93b08a-6464-4753-82f9-2f04bf02c39a"
      },
      "outputs": [
        {
          "name": "stdout",
          "output_type": "stream",
          "text": [
            "El resto es: 1\n"
          ]
        }
      ],
      "source": [
        "a = 7\n",
        "b = 2\n",
        "resto = a % b\n",
        "print('El resto es:',resto)"
      ]
    },
    {
      "cell_type": "markdown",
      "metadata": {
        "id": "nrAH58eb96no"
      },
      "source": [
        "7. Cree que la siguiente igualdad es verdadera o falsa. De no obtener el valor esperado, piense que puede estar fallando. Como lo arreglaria?"
      ]
    },
    {
      "cell_type": "code",
      "execution_count": 14,
      "metadata": {
        "colab": {
          "base_uri": "https://localhost:8080/"
        },
        "id": "0XIfwIvS96no",
        "outputId": "07e22d42-feef-4048-d2bf-90ffb298bd53"
      },
      "outputs": [
        {
          "data": {
            "text/plain": [
              "True"
            ]
          },
          "execution_count": 14,
          "metadata": {},
          "output_type": "execute_result"
        }
      ],
      "source": [
        "round(0.1 + 0.1 + 0.1,1)  == 0.3\n"
      ]
    },
    {
      "cell_type": "markdown",
      "metadata": {
        "id": "xK6_smTJ96no"
      },
      "source": [
        "<hr>"
      ]
    },
    {
      "cell_type": "markdown",
      "metadata": {
        "id": "WJ89H2R496no"
      },
      "source": [
        "## Ejercicios sobre Strings\n",
        "referencia https://docs.python.org/3/library/stdtypes.html#text-sequence-type-str"
      ]
    },
    {
      "cell_type": "markdown",
      "metadata": {
        "id": "OeRMdIRG96no"
      },
      "source": [
        "8. Convierta el siguiente string en minuscula y mayuscula"
      ]
    },
    {
      "cell_type": "code",
      "execution_count": 16,
      "metadata": {
        "colab": {
          "base_uri": "https://localhost:8080/"
        },
        "id": "vjAHAwmb96no",
        "outputId": "dc99c773-fc35-4539-e0f1-a6a7072315f3"
      },
      "outputs": [
        {
          "name": "stdout",
          "output_type": "stream",
          "text": [
            "El texto en minuscula es:  HOLA COMO ESTAS?\n",
            "El texto en mayuscula es: hola como estas?\n",
            "El texto en mayuscula es: Hola como estas?\n"
          ]
        }
      ],
      "source": [
        "texto = 'HoLa CoMo EsTaS?'\n",
        "texto_todo_minuscula = texto.upper()\n",
        "texto_todo_en_mayuscula = texto.lower()\n",
        "texto_capitalizado = texto.capitalize()\n",
        "print('El texto en minuscula es: ',texto_todo_minuscula)\n",
        "print('El texto en mayuscula es:',texto_todo_en_mayuscula)\n",
        "print('El texto en mayuscula es:',texto_capitalizado)"
      ]
    },
    {
      "cell_type": "markdown",
      "metadata": {
        "id": "pV_mLS1796np"
      },
      "source": [
        "9. Separe el siguiente texto en frases, usando comas como caracter para partir"
      ]
    },
    {
      "cell_type": "code",
      "execution_count": 17,
      "metadata": {
        "colab": {
          "base_uri": "https://localhost:8080/"
        },
        "id": "Mko4tuYU96np",
        "outputId": "fcca4cac-452e-4a08-d5e2-34f7e4eb20f7"
      },
      "outputs": [
        {
          "name": "stdout",
          "output_type": "stream",
          "text": [
            "El texto separado por comas es: ['Nos', ' los representantes del pueblo de la Nación Argentina', ' reunidos\\n en Congreso General Constituyente por voluntad y elección de las provincias \\n que la componen', ' en cumplimiento de pactos preexistentes', ' con el objeto de \\n constituir la unión nacional', ' afianzar la justicia', ' consolidar la paz \\n interior', ' proveer a la defensa común', ' promover el bienestar general', ' y \\n asegurar los beneficios de la libertad', ' para nosotros', ' para nuestra \\n posteridad', ' y para todos los hombres del mundo que quieran habitar en el\\n suelo argentino: invocando la protección de Dios', ' fuente de toda razón y\\n justicia: ordenamos', ' decretamos y establecemos esta Constitución', ' para la\\n Nación Argentina.']\n"
          ]
        }
      ],
      "source": [
        "# para definir un string multilinea usamos tres comillas seguidas en vez de una\n",
        "preambulo = \"\"\"Nos, los representantes del pueblo de la Nación Argentina, reunidos\n",
        " en Congreso General Constituyente por voluntad y elección de las provincias \n",
        " que la componen, en cumplimiento de pactos preexistentes, con el objeto de \n",
        " constituir la unión nacional, afianzar la justicia, consolidar la paz \n",
        " interior, proveer a la defensa común, promover el bienestar general, y \n",
        " asegurar los beneficios de la libertad, para nosotros, para nuestra \n",
        " posteridad, y para todos los hombres del mundo que quieran habitar en el\n",
        " suelo argentino: invocando la protección de Dios, fuente de toda razón y\n",
        " justicia: ordenamos, decretamos y establecemos esta Constitución, para la\n",
        " Nación Argentina.\"\"\"\n",
        "\n",
        "texto_separado_por_comas = preambulo.split(\",\")\n",
        "print('El texto separado por comas es:',texto_separado_por_comas)"
      ]
    },
    {
      "cell_type": "markdown",
      "metadata": {
        "id": "lXpXvP1196np"
      },
      "source": [
        "10. Cuente la cantidad de palabras el preambulo"
      ]
    },
    {
      "cell_type": "code",
      "execution_count": 27,
      "metadata": {
        "colab": {
          "base_uri": "https://localhost:8080/"
        },
        "id": "WGOEAF5p96nr",
        "outputId": "758c43cc-3e65-43cd-ef50-b454bd79a4c7"
      },
      "outputs": [
        {
          "name": "stdout",
          "output_type": "stream",
          "text": [
            "La cantidad de palabras son: 679\n"
          ]
        }
      ],
      "source": [
        "cantidad_de_palabras = len(preambulo)\n",
        "print('La cantidad de palabras son:',cantidad_de_palabras)"
      ]
    },
    {
      "cell_type": "markdown",
      "metadata": {
        "id": "HKDcdHXL96nr"
      },
      "source": [
        "11. Cree un nuevo string que resulte de reemplazar cada apariación de palabra \"de\" en el preambulo por dos arrobas"
      ]
    },
    {
      "cell_type": "code",
      "execution_count": 29,
      "metadata": {
        "colab": {
          "base_uri": "https://localhost:8080/"
        },
        "id": "reI8MsPB96nr",
        "outputId": "8e6b3623-8196-43d9-ae24-54fa370a02d0"
      },
      "outputs": [
        {
          "name": "stdout",
          "output_type": "stream",
          "text": [
            "El preambulo cambiado con arrobas es:  Nos, los representantes @@l pueblo @@ la Nación Argentina, reunidos\n",
            " en Congreso General Constituyente por voluntad y elección @@ las provincias \n",
            " que la componen, en cumplimiento @@ pactos preexistentes, con el objeto @@ \n",
            " constituir la unión nacional, afianzar la justicia, consolidar la paz \n",
            " interior, proveer a la @@fensa común, promover el bienestar general, y \n",
            " asegurar los beneficios @@ la libertad, para nosotros, para nuestra \n",
            " posteridad, y para todos los hombres @@l mundo que quieran habitar en el\n",
            " suelo argentino: invocando la protección @@ Dios, fuente @@ toda razón y\n",
            " justicia: or@@namos, @@cretamos y establecemos esta Constitución, para la\n",
            " Nación Argentina.\n"
          ]
        }
      ],
      "source": [
        "nuevo_preambulo = preambulo.replace(\"de\", \"@@\")\n",
        "print('El preambulo cambiado con arrobas es: ',nuevo_preambulo)"
      ]
    },
    {
      "cell_type": "markdown",
      "metadata": {
        "id": "DCK_3HbA96nr"
      },
      "source": [
        "## Ejercicios sobre listas y diccionarios\n",
        "referencias: \n",
        "* https://docs.python.org/3/library/stdtypes.html#sequence-types-list-tuple-range \n",
        "* https://docs.python.org/3/library/stdtypes.html#mapping-types-dict"
      ]
    },
    {
      "cell_type": "markdown",
      "metadata": {
        "id": "vZOjaWDS96nr"
      },
      "source": [
        "12. Cree una lista vacia, agregarle 10 valores y muestra por pantalla (usando la función print) el 3 elemento"
      ]
    },
    {
      "cell_type": "code",
      "execution_count": 30,
      "metadata": {
        "colab": {
          "base_uri": "https://localhost:8080/"
        },
        "id": "mLt6QL3v96ns",
        "outputId": "1e9b7d25-309d-4b17-e15d-4604ac602e49"
      },
      "outputs": [
        {
          "name": "stdout",
          "output_type": "stream",
          "text": [
            "5\n"
          ]
        }
      ],
      "source": [
        "lista_numeros = [ 1,2,5,6,7,8,9,11,0,12 ]\n",
        "print(lista_numeros[2])"
      ]
    },
    {
      "cell_type": "markdown",
      "metadata": {
        "id": "lzz2GuoQ96ns"
      },
      "source": [
        "13. Obtenga el intervalo de la lista desde la posición 3 hasta la 5 incluida"
      ]
    },
    {
      "cell_type": "code",
      "execution_count": 32,
      "metadata": {
        "colab": {
          "base_uri": "https://localhost:8080/"
        },
        "id": "-mqvBcXn96ns",
        "outputId": "6f368a97-910c-4f8a-9996-84b96baa2136"
      },
      "outputs": [
        {
          "name": "stdout",
          "output_type": "stream",
          "text": [
            "[5, 6, 7]\n"
          ]
        }
      ],
      "source": [
        "lista_numeros = [ 1,2,5,6,7,8,9,11,0,12 ]\n",
        "print(lista_numeros[2:5])"
      ]
    },
    {
      "cell_type": "markdown",
      "metadata": {
        "id": "0EZKZaSq96ns"
      },
      "source": [
        "14. Complete el codigo para saber si un elemento pertenece a la lista"
      ]
    },
    {
      "cell_type": "code",
      "execution_count": 3,
      "metadata": {
        "colab": {
          "base_uri": "https://localhost:8080/"
        },
        "id": "foR0AMMd96ns",
        "outputId": "2a98b63b-3e5b-44c0-e7d8-0372d94e7b6e"
      },
      "outputs": [
        {
          "name": "stdout",
          "output_type": "stream",
          "text": [
            "El elemento pertenece a la lista:  True\n"
          ]
        }
      ],
      "source": [
        "lista = [4,'3',3,6,7,4,3,False,'323',3,3,5,6,3]\n",
        "e = 5\n",
        "pertenece = lista.__contains__(e)\n",
        "#if e in lista:\n",
        "print('El elemento pertenece a la lista: ',pertenece)"
      ]
    },
    {
      "cell_type": "markdown",
      "metadata": {
        "id": "ZFBaOnUw96ns"
      },
      "source": [
        "15. Complete el codigo para obtener una lista solo con los elementos en las posiciones pares respetando el orden original de la lista. Calcule tambien la cantidad de elementos de esa lista."
      ]
    },
    {
      "cell_type": "code",
      "execution_count": 2,
      "metadata": {
        "id": "svQXgB0_96nt"
      },
      "outputs": [
        {
          "name": "stdout",
          "output_type": "stream",
          "text": [
            "La lista en posiciones pares es:  [0, 2, 4, 6, 8]\n"
          ]
        }
      ],
      "source": [
        "lista = [0, 1, 2, 3, 4, 5, 6, 7, 8, 9]\n",
        "lista_solo_elementos_en_posiciones_pares = [num for num in lista if num % 2 == 0]\n",
        "print('La lista en posiciones pares es: ',lista_solo_elementos_en_posiciones_pares)"
      ]
    },
    {
      "cell_type": "markdown",
      "metadata": {
        "id": "ut5823_U96nt"
      },
      "source": [
        "16. Imprima por pantalla la posición de la primaria aparición del emento e, la cantidad de veces que aparece. Prueba diferentes valores de $e$. ¿Qué sucede si el valor de $e$ no esta presente en la lista?"
      ]
    },
    {
      "cell_type": "code",
      "execution_count": 5,
      "metadata": {
        "id": "KCmx1jTz96nt"
      },
      "outputs": [
        {
          "ename": "ValueError",
          "evalue": "1 is not in list",
          "output_type": "error",
          "traceback": [
            "\u001b[1;31m---------------------------------------------------------------------------\u001b[0m",
            "\u001b[1;31mValueError\u001b[0m                                Traceback (most recent call last)",
            "Cell \u001b[1;32mIn[5], line 4\u001b[0m\n\u001b[0;32m      1\u001b[0m e \u001b[39m=\u001b[39m \u001b[39m1\u001b[39m\n\u001b[0;32m      2\u001b[0m lista \u001b[39m=\u001b[39m [\u001b[39m36\u001b[39m, \u001b[39m52\u001b[39m, \u001b[39m14\u001b[39m, \u001b[39m100\u001b[39m, \u001b[39m31\u001b[39m, \u001b[39m37\u001b[39m, \u001b[39m84\u001b[39m, \u001b[39m80\u001b[39m, \u001b[39m93\u001b[39m, \u001b[39m18\u001b[39m, \u001b[39m96\u001b[39m, \u001b[39m15\u001b[39m, \u001b[39m28\u001b[39m, \u001b[39m65\u001b[39m, \u001b[39m32\u001b[39m, \u001b[39m36\u001b[39m, \u001b[39m17\u001b[39m, \u001b[39m74\u001b[39m, \u001b[39m31\u001b[39m, \u001b[39m57\u001b[39m, \u001b[39m11\u001b[39m, \u001b[39m33\u001b[39m, \u001b[39m47\u001b[39m,\n\u001b[0;32m      3\u001b[0m          \u001b[39m42\u001b[39m, \u001b[39m11\u001b[39m, \u001b[39m30\u001b[39m, \u001b[39m7\u001b[39m, \u001b[39m22\u001b[39m, \u001b[39m47\u001b[39m, \u001b[39m75\u001b[39m, \u001b[39m52\u001b[39m, \u001b[39m65\u001b[39m, \u001b[39m84\u001b[39m, \u001b[39m52\u001b[39m, \u001b[39m68\u001b[39m, \u001b[39m30\u001b[39m, \u001b[39m7\u001b[39m, \u001b[39m9\u001b[39m, \u001b[39m59\u001b[39m, \u001b[39m75\u001b[39m, \u001b[39m28\u001b[39m,]\n\u001b[1;32m----> 4\u001b[0m primera_posicion_e \u001b[39m=\u001b[39m lista\u001b[39m.\u001b[39;49mindex(e)\n\u001b[0;32m      5\u001b[0m \u001b[39mprint\u001b[39m(\u001b[39m'\u001b[39m\u001b[39mLa primera posicion de\u001b[39m\u001b[39m'\u001b[39m,e,\u001b[39m'\u001b[39m\u001b[39m es:\u001b[39m\u001b[39m'\u001b[39m,primera_posicion_e)\n",
            "\u001b[1;31mValueError\u001b[0m: 1 is not in list"
          ]
        }
      ],
      "source": [
        "e = 1\n",
        "lista = [36, 52, 14, 100, 31, 37, 84, 80, 93, 18, 96, 15, 28, 65, 32, 36, 17, 74, 31, 57, 11, 33, 47,\n",
        "         42, 11, 30, 7, 22, 47, 75, 52, 65, 84, 52, 68, 30, 7, 9, 59, 75, 28,]\n",
        "primera_posicion_e = lista.index(e)\n",
        "print('La primera posicion de',e,' es:',primera_posicion_e)"
      ]
    },
    {
      "attachments": {},
      "cell_type": "markdown",
      "metadata": {
        "id": "3Uooib2a96nt"
      },
      "source": [
        "17. Cree un diccionario con alumnos 5 elementos, donde las claves sean DNIs y los significados apellidos"
      ]
    },
    {
      "cell_type": "code",
      "execution_count": 14,
      "metadata": {
        "id": "vU4lRqRi96nt"
      },
      "outputs": [
        {
          "name": "stdout",
          "output_type": "stream",
          "text": [
            "Diccionario DNI-APELLIDO:  {62398739: 'Perez', 22520789: 'Garcia', 59757344: 'Perez', 14078612: 'Lopez', 67306031: 'Perez'}\n"
          ]
        }
      ],
      "source": [
        "import random\n",
        "\n",
        "\n",
        "dic_dni_apellido = {}\n",
        "apellidos=['Perez','Lopez','Gimenez','Gonzalez','Garcia']\n",
        "for i in range(0,5):\n",
        "    dni=random.randint(12345678,87654321)\n",
        "    apellido = random.choice(apellidos)\n",
        "    dic_dni_apellido[dni]=apellido\n",
        "print('Diccionario DNI-APELLIDO: ',dic_dni_apellido)"
      ]
    },
    {
      "cell_type": "markdown",
      "metadata": {
        "id": "rvQ8ua2596nt"
      },
      "source": [
        "18. Cree otro diccionario con la misma información pero donde las claves sean apellidos y los significados DNIs."
      ]
    },
    {
      "cell_type": "code",
      "execution_count": 12,
      "metadata": {
        "id": "tDkUKAQS96nt"
      },
      "outputs": [
        {
          "name": "stdout",
          "output_type": "stream",
          "text": [
            "Diccionario APELLIDO-DNI:  {'Lopez': 55704987, 'Garcia': 55575082, 'Gonzalez': 54599302, 'Perez': 50169495}\n"
          ]
        }
      ],
      "source": [
        "dic_apellido_dni= {}\n",
        "apellidos=['Perez','Lopez','Gimenez','Gonzalez','Garcia']\n",
        "for i in range(0,5):\n",
        "    dni=random.randint(12345678,87654321)\n",
        "    apellido = random.choice(apellidos)\n",
        "    dic_apellido_dni[apellido]=dni\n",
        "print('Diccionario APELLIDO-DNI: ',dic_apellido_dni)"
      ]
    },
    {
      "attachments": {},
      "cell_type": "markdown",
      "metadata": {
        "id": "qVGNaN_Z96nu"
      },
      "source": [
        "19. Escriba código para chequar si el apellido que viene en la variable apellido pertence o no al diccionario del ejercicio 17. Escriba otro código para saber si pertenece al diccionario del ejercicio 18. Prueba diferentes apellidos para chequear todos los casos (donde esten en uno y no en otro, etc)"
      ]
    },
    {
      "cell_type": "code",
      "execution_count": 15,
      "metadata": {
        "id": "tPszY5cP96nu"
      },
      "outputs": [
        {
          "name": "stdout",
          "output_type": "stream",
          "text": [
            "El apellido pertenece al diccionario DNI-APELLIDO False\n",
            "El apellido pertenece al diccionario APELLIDO-DNI True\n"
          ]
        }
      ],
      "source": [
        "apellido = 'Perez'\n",
        "pertenece_dic_dni_apellido = dic_dni_apellido.__contains__(apellido)\n",
        "pertenece_dic_apellido_dni = dic_apellido_dni.__contains__(apellido)\n",
        "print('El apellido pertenece al diccionario DNI-APELLIDO',pertenece_dic_dni_apellido)\n",
        "print('El apellido pertenece al diccionario APELLIDO-DNI',pertenece_dic_apellido_dni)"
      ]
    },
    {
      "cell_type": "markdown",
      "metadata": {
        "id": "JF58fHxH96nu"
      },
      "source": [
        "20. Borre algun elemento de los diccionarios y prueba reemplazar algun valor ya definido, ¿Qué pasa con el diccionario?"
      ]
    },
    {
      "cell_type": "code",
      "execution_count": null,
      "metadata": {
        "id": "s8FmWfuX96nu"
      },
      "outputs": [],
      "source": []
    }
  ],
  "metadata": {
    "colab": {
      "provenance": []
    },
    "kernelspec": {
      "display_name": "Python 3",
      "language": "python",
      "name": "python3"
    },
    "language_info": {
      "codemirror_mode": {
        "name": "ipython",
        "version": 3
      },
      "file_extension": ".py",
      "mimetype": "text/x-python",
      "name": "python",
      "nbconvert_exporter": "python",
      "pygments_lexer": "ipython3",
      "version": "3.11.1 (tags/v3.11.1:a7a450f, Dec  6 2022, 19:58:39) [MSC v.1934 64 bit (AMD64)]"
    },
    "vscode": {
      "interpreter": {
        "hash": "9bb3b476dbeff6ee4b0a2acf514ee4bd2042e4d66ab8914ba20848b9f858e9d3"
      }
    }
  },
  "nbformat": 4,
  "nbformat_minor": 0
}
